{
 "cells": [
  {
   "cell_type": "code",
   "execution_count": 2,
   "metadata": {},
   "outputs": [],
   "source": [
    "from numpy import *"
   ]
  },
  {
   "cell_type": "code",
   "execution_count": 10,
   "metadata": {},
   "outputs": [],
   "source": [
    "class LinearRegression:\n",
    "    def __init__(self, x, y):\n",
    "        self.x = x\n",
    "        self.y = y\n",
    "        self.__correlation_coefficient = self.__correlacao()\n",
    "        self.__inclination = self.__inclinacao()\n",
    "        self.__intercept = self.__interceptacao()\n",
    "\n",
    "    # Cria a função de Correlação (Covariancia / Raiz(varianciax * varianciay))\n",
    "    def __correlacao(self):\n",
    "        covariacao = cov(self.x, self.y, bias=True)[0][1]\n",
    "        variancia_x = var(self.x)\n",
    "        variancia_y = var(self.y)\n",
    "\n",
    "        return covariacao / sqrt(variancia_x * variancia_y)\n",
    "\n",
    "    # Cria a função de inclinação (Correlacao * (desvio_padrao_y / desvio_padrao_x))\n",
    "    def __inclinacao(self):\n",
    "        stdx = std(self.x)\n",
    "        stdy = std(self.y)\n",
    "\n",
    "        return self.__correlation_coefficient * (stdy / stdx) \n",
    "\n",
    "    # Cria a função de Interceptação (media_y - (media_x * inclinação))\n",
    "    def __interceptacao(self):\n",
    "        mediax = mean(self.x)\n",
    "        mediay = mean(self.y)\n",
    "\n",
    "        return mediay - mediax * self.__inclination\n",
    "\n",
    "    #Cria a função que faz o calculo da previsão da regressão linear\n",
    "    def previsao(self, valor):\n",
    "        return self.__intercept + (self.__inclination * valor)"
   ]
  },
  {
   "cell_type": "code",
   "execution_count": 17,
   "metadata": {},
   "outputs": [
    {
     "name": "stdout",
     "output_type": "stream",
     "text": [
      "12.0\n"
     ]
    }
   ],
   "source": [
    "array1 = array([1,2,3,4,5])\n",
    "array2 = array([2,4,6,8,10])\n",
    "\n",
    "lr = LinearRegression(array1, array2)\n",
    "previsao = lr.previsao(6)\n",
    "print(previsao)"
   ]
  }
 ],
 "metadata": {
  "kernelspec": {
   "display_name": "Python 3",
   "language": "python",
   "name": "python3"
  },
  "language_info": {
   "codemirror_mode": {
    "name": "ipython",
    "version": 3
   },
   "file_extension": ".py",
   "mimetype": "text/x-python",
   "name": "python",
   "nbconvert_exporter": "python",
   "pygments_lexer": "ipython3",
   "version": "3.11.1"
  }
 },
 "nbformat": 4,
 "nbformat_minor": 2
}
